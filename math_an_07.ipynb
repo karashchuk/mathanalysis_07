{
 "cells": [
  {
   "cell_type": "markdown",
   "metadata": {},
   "source": [
    "# Решение задания к уроку 7"
   ]
  },
  {
   "cell_type": "markdown",
   "metadata": {},
   "source": [
    "__1.__ Найти производную $y'_{x}$ функции:\n",
    "\n",
    "### $$\\mbox{arctg}(\\frac{y}{x})=\\ln \\sqrt{x^2+y^2}$$"
   ]
  },
  {
   "cell_type": "markdown",
   "metadata": {},
   "source": [
    "\n",
    "\n",
    "$$ f'_{x} = ( \\arctan(\\frac{y}{x}))'_x  - (\\ln \\sqrt{x^2+y^2})'_x  = \\frac{1}{(1 + \\frac{y^2}{x^2})} \\cdot (-\\frac{y}{x^2}) - \\frac{2x}{2(x^2+y^2)} =  - \\frac{y}{x^2+y^2} - \\frac{x}{x^2+y^2} = - \\frac{x+y}{x^2+y^2}$$\n",
    "\n",
    "$$ f'_{y} = ( \\arctan(\\frac{y}{x}))'_y - (\\ln \\sqrt{x^2+y^2})'_y  = \\frac{1}{(1 + \\frac{y^2}{x^2})} \\cdot (\\frac{1}{x}) - \\frac{2y}{2(x^2+y^2)} = \\frac{x-y}{x^2+y^2}$$\n",
    "\n",
    "$$y'_{x}  = \\frac{f'_{x}} {f'_{y}} = (-\\frac{x+y}{x^2+y^2}) /  ( - \\frac{y-x}{x^2+y^2}) = \\frac{x+y}{y-x} $$\n",
    "\n",
    "$$ $$"
   ]
  },
  {
   "cell_type": "markdown",
   "metadata": {},
   "source": [
    "__2.__ Найти производную $y'_{x}$ функции:\n",
    "\n",
    "### \\begin{cases}\n",
    "   y=\\frac{t^2}{t-1}, \\\\\n",
    "   x=\\frac{t}{t^2-1} \n",
    " \\end{cases}"
   ]
  },
  {
   "cell_type": "markdown",
   "metadata": {},
   "source": [
    "\n",
    " $$ y'_{t} = \\frac{2t(t-1) - t^2}{(t-1)^2} = \\frac{t(t-2)}{(t-1)^2}$$\n",
    " $$ x'_{t} = \\frac{t^2- 1 - t\\cdot 2t }{(t^2-1)^2} = - \\frac{t^2+ 1}{(t-1)^2(t+1)^2}$$\n",
    " \n",
    "  $$y'_{x}=\\frac{y'_{t}}{x'_{t}} = \\frac{t(t-2)}{(t-1)^2} \\cdot - \\frac{(t-1)^2(t+1)^2} {t^2+ 1} = - \\frac{t(t-2)(t+1)^2}{(t^2+1)} $$"
   ]
  },
  {
   "cell_type": "markdown",
   "metadata": {},
   "source": [
    "__3.__ Найти производную с помощью логарифмирования:\n",
    "\n",
    "### $$y=(x^2+2)^5\\cdot(3x-x^3)^3$$"
   ]
  },
  {
   "cell_type": "markdown",
   "metadata": {},
   "source": [
    "$$y'=f(x)\\cdot (\\ln f(x))'$$\n"
   ]
  },
  {
   "cell_type": "markdown",
   "metadata": {},
   "source": [
    "$$y=(x^2+2)^5\\cdot(3x-x^3)^3 \\cdot ((5 (\\ln{(x^2+2))'} + 3(\\ln(3x-x^3))') = (x^2+2)^5\\cdot(3x-x^3)^3 \\cdot (\\frac{2x}{(x^2+2)} + \\frac{3x^2-3}{x^3 - 3 }) = $$\n",
    "\n",
    "$$  = -(x^2 + 2)^4 \\cdot (3 x - x^3)^2 \\cdot (19 x^4 - 21 x^2 - 18)$$ "
   ]
  },
  {
   "cell_type": "markdown",
   "metadata": {},
   "source": [
    "__4.__ Найти производную функции с помощью логарифмирования:\n",
    "\n",
    "### $$y=x^x$$"
   ]
  },
  {
   "cell_type": "markdown",
   "metadata": {},
   "source": [
    "$$ x^x = e^{x \\ln(x)} $$ \n",
    "$$ y'=f(x)\\cdot (\\ln f(x))' = x^x \\cdot(x \\cdot\\ln(x))' = x^x \\cdot(\\ln(x)+\\frac{x}{x}) = x^x \\cdot(\\ln(x)+1)$$\n",
    "\n"
   ]
  },
  {
   "cell_type": "markdown",
   "metadata": {},
   "source": [
    "__5.__ Найти производную функции с помощью логарифмирования:\n",
    "\n",
    "### $$y=\\frac{(2-x^2)^3\\cdot(x-1)^2}{(2x^3-3x)\\cdot e^x}$$"
   ]
  },
  {
   "cell_type": "markdown",
   "metadata": {},
   "source": [
    "$$y'=\\frac{(2-x^2)^3\\cdot(x-1)^2}{(2x^3-3x)\\cdot e^x} \\cdot (3(\\ln(2-x^2))' + 2(\\ln(x-1))'-(\\ln(2x^3-3x)' - x))  = $$\n",
    "\n",
    "\n",
    "$$ =\\frac{(2-x^2)^3\\cdot(x-1)^2}{(2x^3-3x)\\cdot e^x} \\cdot \\left(\\frac{-6x}{2-x^2} + \\frac{2}{x-1} - \\frac{6x^2-3}{2x^3-3x} - x\\right)$$"
   ]
  },
  {
   "cell_type": "markdown",
   "metadata": {},
   "source": [
    "__6*.__ Вывести табличное значение производной для функции\n",
    "\n",
    "### $$\\mbox{arctg}(x)$$"
   ]
  },
  {
   "cell_type": "markdown",
   "metadata": {},
   "source": [
    "\n",
    "\n",
    "$$ y = \\arctan(x)$$\n",
    "\n",
    "$$ x_y = \\tan(y) $$\n",
    "\n",
    "\n",
    "$$ x'_y = \\frac{1}{\\cos^2y} = 1 + \\tan^2y$$\n",
    "\n",
    "$$y'_{x}=\\frac{1}{x'_{y}} = \\frac{1}{1+ \\tan^2y} = \\frac{1}{1+ \\tan^2(\\arctan(x))} = \\frac{1}{1+ x^2} $$"
   ]
  },
  {
   "cell_type": "markdown",
   "metadata": {},
   "source": [
    "__7.__ Найти длину $𝑥$ и ширину $𝑦$ прямоугольника при заданном периметре $𝑃=144$ cм, при которых данный прямоугольник имеет наибольшую площадь $𝑆$."
   ]
  },
  {
   "cell_type": "markdown",
   "metadata": {},
   "source": [
    "$$ 2x + 2y = P= const  \\to y = P/2 - x$$\n",
    "\n",
    "$$ S = x * (P/2 - x) = P/2\\cdot x - x^2$$\n",
    "\n",
    "Для поиска экстремума возьмем производную от S(x) прировняем 0:\n",
    "\n",
    "$$ S' = P/2 - 2x = 0 \\to x = P/4 \\mbox{  и  } y = P/2 - P/4 = x $$\n",
    "\n",
    "Исследуем что это за экстремум, возьмем точку правее от $P/4$ например $P/2$: \n",
    "\n",
    "$$ S'(P/2) = P/2 - 2P/2 = -P/2 < 0$$\n",
    "\n",
    "Следовательно функция $S'(x)$ убывающая? следовательно слева - возрастаюющая, \n",
    "следовательно в точке $P/4$ находится максимум.\n",
    "\n",
    "То есть максимальную площадь прямоугольник с периметром $P$ будет иметь квадрат со стороной $P/4$ "
   ]
  },
  {
   "cell_type": "markdown",
   "metadata": {},
   "source": [
    "__8*.__ Завод $A$ отстоит от железной дороги, идущей с юга на север и проходящей через $B$, считая по кратчайшему расстоянию на $a$ км. Под каким углом $\\alpha$ к железной дороге следует ппостроить подъезной  путь от завода, чтобы транспортировка грузов из $A$ в $B$ была наиболее экономичной, если стоимость провоза тонны груза на расстоянии $1$ км составляет: по подъезному пути $p$ рублей, по железной дороге $q$ рублей $(p>q)$ и город $B$ расположен на $b$ км севернее завода $A$."
   ]
  },
  {
   "attachments": {
    "image.png": {
     "image/png": "[encoded data removed]"
    }
   },
   "cell_type": "markdown",
   "metadata": {},
   "source": [
    "![image.png](attachment:image.png)\n"
   ]
  },
  {
   "cell_type": "markdown",
   "metadata": {},
   "source": [
    "$l_1$ - это подъездной путь из пункта $A$, \n",
    "\n",
    "$l_2$ - это путь по железной дороге до пункта $B$, \n",
    "\n",
    "$a$ - это расстояние от пункта $A$ до железной дороги, \n",
    "\n",
    "$b$ - расстояние от точки пересечения перпендикуляра из точки $A$ на железную дорогу, тогда\n",
    "\n",
    "Общая стоимость $S = l_1 * p + l_2*q$ \n",
    "\n",
    "Выразим $l_1$ и $l_2$ через $a, b $ и угол $\\alpha$, тогда\n",
    "\n",
    "$$ S = \\frac{a*p}{\\sin{\\alpha}} + b*q - a*q*\\mbox{ctg}{\\alpha} \\mbox{, где } \\alpha \\in \\left[\\frac{\\pi}{2}; 0\\right)$$\n",
    "\n",
    "Возьмем производную и прировняем к нулю.\n",
    "\n",
    "$$ S' = - \\frac{a*p*\\cos\\alpha}{1-\\cos^2\\alpha} + \\frac{a*q}{1-\\cos^2\\alpha} = 0 $$ \n",
    "\n",
    "Так как $\\alpha \\in [\\pi/2; 0) $, то знаменатель > 0, следовательно для поиска решения достаточно прировнять к 0 числитель:\n",
    "\n",
    "$ -a*p*\\cos\\alpha + a*q = 0 \\to \\cos\\alpha = \\frac{q}{p}$, отсюда\n",
    "\n",
    "$$ \\alpha = \\arccos\\left(\\frac{q}{p}\\right) $$\n",
    "\n",
    "\n",
    "\n"
   ]
  },
  {
   "cell_type": "markdown",
   "metadata": {},
   "source": [
    "####  Проверим на граничных условиях: \n",
    "\n",
    "1. пусть $ p>>q$, то есть стоимость провоза на железной дороге гораздо дешевле, тогда $\\frac{q}{p} \\to 0$, тогда логично что   \n",
    "\n",
    "$$ \\alpha \\to \\arccos 0 =  \\frac{\\pi}{2} $$\n",
    "\n",
    "2. пусть $ p \\to q$, то есть стоимость провоза на железной дороге стоимости на подъездном пути, тогда логично что нет смысла везти на железную дорогу а есть смысл везти на прямую \n",
    "\n",
    "$$ \\alpha \\to \\arccos 1 =  0 $$"
   ]
  }
 ],
 "metadata": {
  "kernelspec": {
   "display_name": "Python 3",
   "language": "python",
   "name": "python3"
  },
  "language_info": {
   "codemirror_mode": {
    "name": "ipython",
    "version": 3
   },
   "file_extension": ".py",
   "mimetype": "text/x-python",
   "name": "python",
   "nbconvert_exporter": "python",
   "pygments_lexer": "ipython3",
   "version": "3.7.4"
  }
 },
 "nbformat": 4,
 "nbformat_minor": 2
}
